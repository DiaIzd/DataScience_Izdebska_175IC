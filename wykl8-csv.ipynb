{
  "nbformat": 4,
  "nbformat_minor": 0,
  "metadata": {
    "colab": {
      "name": "Untitled24.ipynb",
      "provenance": [],
      "authorship_tag": "ABX9TyM2Pz4s82RZR4j+v1ScBHzl",
      "include_colab_link": true
    },
    "kernelspec": {
      "name": "python3",
      "display_name": "Python 3"
    }
  },
  "cells": [
    {
      "cell_type": "markdown",
      "metadata": {
        "id": "view-in-github",
        "colab_type": "text"
      },
      "source": [
        "<a href=\"https://colab.research.google.com/github/DiaIzd/DataScience_Izdebska_175IC/blob/main/wykl8-csv.ipynb\" target=\"_parent\"><img src=\"https://colab.research.google.com/assets/colab-badge.svg\" alt=\"Open In Colab\"/></a>"
      ]
    },
    {
      "cell_type": "code",
      "metadata": {
        "colab": {
          "base_uri": "https://localhost:8080/"
        },
        "id": "RAFXzUd6NzRR",
        "outputId": "b6c63b11-0ac0-4ce1-b865-a13cc58ec8a8"
      },
      "source": [
        "import csv\r\n",
        "#czytanie plików csv\r\n",
        "with open('books.txt') as csv_file:\r\n",
        "    csv_reader = csv.reader(csv_file, delimiter=',')\r\n",
        "    line_count = 0\r\n",
        "    for row in csv_reader:\r\n",
        "        if line_count == 0:\r\n",
        "            print(f'Column names are {\", \".join(row)}')\r\n",
        "            line_count += 1\r\n",
        "        else:\r\n",
        "            print(f'\\t{row[0]} is author of {row[1]} title, and isbn with kind is {row[2], row[3]}.')\r\n",
        "            line_count += 1\r\n",
        "    print(f'Processed {line_count} lines.')\r\n",
        "#pisanie plików csv\r\n",
        "with open('book1.csv', mode='w') as book_file:\r\n",
        "    book_writer = csv.writer(book_file, delimiter=',', quotechar='\"', quoting=csv.QUOTE_MINIMAL)\r\n",
        "\r\n",
        "    book_writer.writerow(['Adam Kay', 'This is Going to Hurt. Secret Diaries of a Junior Doctor', '9788366071025','biografia'])\r\n",
        "    book_writer.writerow(['Jay Asher', 'Thirteen Reasons Why', '9788380621862','literatura młodzieżowa'])\r\n",
        "\r\n",
        "with open('book1.csv') as csv_file:\r\n",
        "    csv_reader = csv.reader(csv_file, delimiter=',')\r\n",
        "    line_count = 0\r\n",
        "    for row in csv_reader:\r\n",
        "        if line_count == 0:\r\n",
        "            print(f'Column names are {\", \".join(row)}')\r\n",
        "            line_count += 1\r\n",
        "        else:\r\n",
        "            print(f'\\t{row[0]} {row[0]} is author of {row[1]}.')\r\n",
        "            line_count += 1\r\n",
        "    print(f'Processed {line_count} lines.')\r\n",
        "import pandas as pd\r\n",
        "df = pd.read_csv('hrdata.csv')\r\n",
        "print(df)\r\n",
        "#pisanie pliku CSV z pandas\r\n",
        "df = pd.read_csv('hrdata.csv', \r\n",
        "            index_col='Employee', \r\n",
        "            parse_dates=['Hired'],\r\n",
        "            header=0, \r\n",
        "            names=['Employee', 'Hired', 'Salary', 'Sick Days'])\r\n",
        "df.to_csv('hrdata_modified.csv')\r\n",
        "print(pd.read_csv('hrdata_modify.csv'))\r\n",
        "#czytanie pliku csv z pandas\r\n",
        "df = pd.read_csv('hrdata.csv', index_col='Name', parse_dates=['Hire Date'])\r\n",
        "print(df)"
      ],
      "execution_count": 1,
      "outputs": [
        {
          "output_type": "stream",
          "text": [
            "Column names are author, title, isbn, kind\n",
            "\tSarah J. Maas is author of Kingdom of Ash title, and isbn with kind is ('9788328061217', 'fantastyka fantasy science fiction').\n",
            "\tNina Majewska-Brown is author of Dwie twarze. Życie prywatne morderców z Auschwitz title, and isbn with kind is ('9788311159006', 'literatura piękna').\n",
            "\tJarosław Grzędowicz is author of Pan Lodowego Ogrodu - tom II title, and isbn with kind is ('9788375746105', 'fantastyka fantasy science fiction').\n",
            "\tBrent Weeks is author of Black Prism title, and isbn with kind is ('9788374807357', 'fantastyka fantasy science fiction').\n",
            "Processed 5 lines.\n",
            "Column names are Adam Kay, This is Going to Hurt. Secret Diaries of a Junior Doctor, 9788366071025, biografia\n",
            "\tJay Asher Jay Asher is author of Thirteen Reasons Why.\n",
            "Processed 2 lines.\n",
            "             Name Hire Date   Salary  Sick Days remaining\n",
            "0  Graham Chapman  03/15/14  50000.0                   10\n",
            "1     John Cleese  06/01/15  65000.0                    8\n",
            "2       Eric Idle  05/12/14  45000.0                   10\n",
            "3     Terry Jones  11/01/13  70000.0                    3\n",
            "4   Terry Gilliam  08/12/14  48000.0                    7\n",
            "5   Michael Palin  05/23/13  66000.0                    8\n",
            "             Name Hire Date   Salary  Sick Days remaining\n",
            "0  Graham Chapman  03/15/14  50000.0                   10\n",
            "1     John Cleese  06/01/15  65000.0                    8\n",
            "2       Eric Idle  05/12/14  45000.0                   10\n",
            "3     Terry Jones  11/01/13  70000.0                    3\n",
            "4   Terry Gilliam  08/12/14  48000.0                    7\n",
            "5   Michael Palin  05/23/13  66000.0                    8\n",
            "                Hire Date   Salary  Sick Days remaining\n",
            "Name                                                   \n",
            "Graham Chapman 2014-03-15  50000.0                   10\n",
            "John Cleese    2015-06-01  65000.0                    8\n",
            "Eric Idle      2014-05-12  45000.0                   10\n",
            "Terry Jones    2013-11-01  70000.0                    3\n",
            "Terry Gilliam  2014-08-12  48000.0                    7\n",
            "Michael Palin  2013-05-23  66000.0                    8\n"
          ],
          "name": "stdout"
        }
      ]
    }
  ]
}